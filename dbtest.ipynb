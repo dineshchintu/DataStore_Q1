{
  "nbformat": 4,
  "nbformat_minor": 0,
  "metadata": {
    "colab": {
      "provenance": []
    },
    "kernelspec": {
      "name": "python3",
      "display_name": "Python 3"
    },
    "language_info": {
      "name": "python"
    }
  },
  "cells": [
    {
      "cell_type": "code",
      "execution_count": 4,
      "metadata": {
        "colab": {
          "base_uri": "https://localhost:8080/"
        },
        "id": "cxnC3PpwNsE-",
        "outputId": "81d153f1-2113-425b-92d4-0aa401983ecf"
      },
      "outputs": [
        {
          "output_type": "stream",
          "name": "stdout",
          "text": [
            "  column_name  column_value\n",
            "0      practo            50\n",
            "3      sample           100\n",
            "4     example            75\n",
            "5      practo            50\n",
            "6      value1            90\n",
            "7      value2            80\n",
            "8      value3            60\n",
            "9      practo           110\n"
          ]
        }
      ],
      "source": [
        "import pandas as pd\n",
        "\n",
        "def evaluate_expression(row, expression):\n",
        "    \"\"\"\n",
        "    Evaluates the expression for a given row.\n",
        "    \"\"\"\n",
        "    safe_names = {col: row[col] for col in row.index}\n",
        "    return eval(expression, {\"__builtins__\": None}, safe_names)\n",
        "\n",
        "def filter_dataframe(df, filter_criteria):\n",
        "    \"\"\"\n",
        "    Filters the DataFrame based on the custom filter criteria.\n",
        "    \"\"\"\n",
        "    # Convert relevant columns to appropriate types\n",
        "    for col in df.columns:\n",
        "        if df[col].dtype == object:\n",
        "            try:\n",
        "                df[col] = pd.to_numeric(df[col])\n",
        "            except ValueError:\n",
        "                pass  # Column is not numeric, leave it as is\n",
        "\n",
        "    filtered_rows = df.apply(lambda row: evaluate_expression(row, filter_criteria), axis=1)\n",
        "    return df[filtered_rows]\n",
        "\n",
        "def read_and_filter_csv(file_path, filter_criteria, page_size=50):\n",
        "    # Read the CSV file into a DataFrame\n",
        "    df = pd.read_csv(file_path)\n",
        "\n",
        "    # Apply the custom filter criteria\n",
        "    filtered_df = filter_dataframe(df, filter_criteria)\n",
        "\n",
        "    # Paginate the results\n",
        "    total_pages = (len(filtered_df) + page_size - 1) // page_size  # ceiling division\n",
        "\n",
        "    def get_page(page_number):\n",
        "        start = (page_number - 1) * page_size\n",
        "        end = page_number * page_size\n",
        "        return filtered_df.iloc[start:end]\n",
        "\n",
        "    return total_pages, get_page\n",
        "\n",
        "# Example usage\n",
        "file_path = '/sample_data.csv'\n",
        "filter_criteria = '((column_name == \"practo\") and (column_name != \"dogreat\")) or (column_value <= 100)'\n",
        "\n",
        "total_pages, get_page = read_and_filter_csv(file_path, filter_criteria)\n",
        "\n",
        "# To get the first page of results\n",
        "page_number = 1\n",
        "first_page = get_page(page_number)\n",
        "print(first_page)\n",
        "\n"
      ]
    },
    {
      "cell_type": "markdown",
      "source": [
        "# New section"
      ],
      "metadata": {
        "id": "VVa-zCdYOsde"
      }
    }
  ]
}